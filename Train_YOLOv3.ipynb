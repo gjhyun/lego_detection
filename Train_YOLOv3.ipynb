{
  "nbformat": 4,
  "nbformat_minor": 0,
  "metadata": {
    "colab": {
      "name": "Train YOLOv3.ipynb",
      "provenance": [],
      "collapsed_sections": [],
      "include_colab_link": true
    },
    "kernelspec": {
      "name": "python3",
      "display_name": "Python 3"
    },
    "accelerator": "GPU"
  },
  "cells": [
    {
      "cell_type": "markdown",
      "metadata": {
        "id": "view-in-github",
        "colab_type": "text"
      },
      "source": [
        "<a href=\"https://colab.research.google.com/github/gjhyun/lego_detection/blob/master/Train_YOLOv3.ipynb\" target=\"_parent\"><img src=\"https://colab.research.google.com/assets/colab-badge.svg\" alt=\"Open In Colab\"/></a>"
      ]
    },
    {
      "cell_type": "markdown",
      "metadata": {
        "id": "c46dfa6CTAbx",
        "colab_type": "text"
      },
      "source": [
        "Clone the git repository for the YOLOv3 implementation."
      ]
    },
    {
      "cell_type": "code",
      "metadata": {
        "id": "5nyQ6FW3Sk9h",
        "colab_type": "code",
        "colab": {}
      },
      "source": [
        "!git clone https://github.com/eriklindernoren/PyTorch-YOLOv3"
      ],
      "execution_count": 0,
      "outputs": []
    },
    {
      "cell_type": "code",
      "metadata": {
        "id": "9oAR9LwBTSyT",
        "colab_type": "code",
        "colab": {}
      },
      "source": [
        "cd PyTorch-YOLOv3/"
      ],
      "execution_count": 0,
      "outputs": []
    },
    {
      "cell_type": "markdown",
      "metadata": {
        "id": "vT3sbJOHTIM5",
        "colab_type": "text"
      },
      "source": [
        "There is a dependancy on terminaltables, which Google Colab doesn't automatically provide, so it needs to be installed."
      ]
    },
    {
      "cell_type": "code",
      "metadata": {
        "id": "KAIW2QnTS7OQ",
        "colab_type": "code",
        "colab": {}
      },
      "source": [
        "pip install terminaltables"
      ],
      "execution_count": 0,
      "outputs": []
    },
    {
      "cell_type": "markdown",
      "metadata": {
        "id": "JvQSvHf1TduX",
        "colab_type": "text"
      },
      "source": [
        "Download generic pre-trained weights, later have the option to use them as a starting point, they do not identify legos at this point."
      ]
    },
    {
      "cell_type": "code",
      "metadata": {
        "id": "P1dY4q4rS7bX",
        "colab_type": "code",
        "colab": {}
      },
      "source": [
        "cd weights/"
      ],
      "execution_count": 0,
      "outputs": []
    },
    {
      "cell_type": "code",
      "metadata": {
        "id": "urQmL3NTS7lD",
        "colab_type": "code",
        "colab": {}
      },
      "source": [
        "!bash download_weights.sh"
      ],
      "execution_count": 0,
      "outputs": []
    },
    {
      "cell_type": "markdown",
      "metadata": {
        "id": "Dh3P7Q3ITq5M",
        "colab_type": "text"
      },
      "source": [
        "Initialize the custom data model"
      ]
    },
    {
      "cell_type": "code",
      "metadata": {
        "id": "4HIoVoWVTyhw",
        "colab_type": "code",
        "colab": {}
      },
      "source": [
        "cd ../config/"
      ],
      "execution_count": 0,
      "outputs": []
    },
    {
      "cell_type": "code",
      "metadata": {
        "id": "O6_Ri-KvT0tq",
        "colab_type": "code",
        "colab": {}
      },
      "source": [
        "!bash create_custom_model.sh 1"
      ],
      "execution_count": 0,
      "outputs": []
    },
    {
      "cell_type": "markdown",
      "metadata": {
        "id": "mu9OTXkvcRYl",
        "colab_type": "text"
      },
      "source": [
        "Change the class names to a single class called LEGO, the only thing we're training the network to identify."
      ]
    },
    {
      "cell_type": "code",
      "metadata": {
        "id": "1dAMiM4SW_LC",
        "colab_type": "code",
        "colab": {}
      },
      "source": [
        "cd ../data/custom/"
      ],
      "execution_count": 0,
      "outputs": []
    },
    {
      "cell_type": "code",
      "metadata": {
        "id": "lbk4N3llUHCw",
        "colab_type": "code",
        "colab": {}
      },
      "source": [
        "file = open('classes.names','r+')\n",
        "file.write(\"LEGO\\n\")\n",
        "file.close();"
      ],
      "execution_count": 0,
      "outputs": []
    },
    {
      "cell_type": "markdown",
      "metadata": {
        "id": "g0AOo5m9JsxZ",
        "colab_type": "text"
      },
      "source": [
        "Delete a file"
      ]
    },
    {
      "cell_type": "code",
      "metadata": {
        "id": "bEmW95QYJxR1",
        "colab_type": "code",
        "colab": {}
      },
      "source": [
        "!rm images/train.jpg"
      ],
      "execution_count": 0,
      "outputs": []
    },
    {
      "cell_type": "markdown",
      "metadata": {
        "id": "yznc7MBjtKul",
        "colab_type": "text"
      },
      "source": [
        "Dataset of images and labels can be found at:\n",
        "\n",
        "https://drive.google.com/drive/folders/1mlCAgDn0qPQNivFyP14mBqzzYegKr7SE?usp=sharing"
      ]
    },
    {
      "cell_type": "markdown",
      "metadata": {
        "id": "POGTwknoYFSl",
        "colab_type": "text"
      },
      "source": [
        "**Upload all of the images you want to train on to the data/custom/images folder.** \n",
        "\n",
        "Only upload images for which you have corresponding label text files. Every image file name has to correspond to a label file name."
      ]
    },
    {
      "cell_type": "markdown",
      "metadata": {
        "id": "JvPOrOCuYhsw",
        "colab_type": "text"
      },
      "source": [
        "**Upload all of the corresponding label text files to the data/custom/labels folder.**\n",
        "\n",
        "Information about the format of the label text files can be found on the link to the git repository if needed."
      ]
    },
    {
      "cell_type": "markdown",
      "metadata": {
        "id": "DvwXVuL-Y8V4",
        "colab_type": "text"
      },
      "source": [
        "**Run the code below (provided by team 2) to create two lists to allocate images for training vs validation.** \n",
        "\n",
        "At the moment it's set to allocate 90% of the images for training, and 10% for validation."
      ]
    },
    {
      "cell_type": "code",
      "metadata": {
        "id": "INA_mPB5ZQjI",
        "colab_type": "code",
        "colab": {}
      },
      "source": [
        "import glob\n",
        "import os\n",
        "import numpy as np\n",
        "import sys\n",
        "image_dir= \"./images/\"\n",
        "label_dir = \"./labels/\"\n",
        "split_pct = 10  # 10% validation set\n",
        "file_train = open(\"train.txt\", \"w\")  \n",
        "file_val = open(\"valid.txt\", \"w\")  \n",
        "counter = 1\n",
        "index_test = round(100 / split_pct)\n",
        "\n",
        "images = set()\n",
        "labels = set()\n",
        "for fullpath in os.listdir(image_dir):\n",
        "  title, ext = os.path.splitext(os.path.basename(fullpath))\n",
        "  images.add(title)\n",
        "  \n",
        "for fullpath in os.listdir(label_dir):\n",
        "  title, ext = os.path.splitext(os.path.basename(fullpath))\n",
        "  labels.add(title)\n",
        "\n",
        "for fullpath in os.listdir(image_dir):  \n",
        "  title, ext = os.path.splitext(os.path.basename(fullpath))\n",
        "  if counter == index_test:\n",
        "    counter = 1\n",
        "    file_val.write(\"./data/custom/images/\" + title + '.jpg' + \"\\n\")\n",
        "  else:\n",
        "    file_train.write(\"./data/custom/images/\" + title + '.jpg' + \"\\n\")\n",
        "    counter = counter + 1\n",
        "file_train.close()\n",
        "file_val.close()"
      ],
      "execution_count": 0,
      "outputs": []
    },
    {
      "cell_type": "markdown",
      "metadata": {
        "colab_type": "text",
        "id": "icRFqYEWagKq"
      },
      "source": [
        "**The original code has some errors due to deprecated dependencies and certain edge cases. Delete and reupload the files.**"
      ]
    },
    {
      "cell_type": "code",
      "metadata": {
        "id": "gmpyzwRSgwzo",
        "colab_type": "code",
        "colab": {}
      },
      "source": [
        "cd ../.."
      ],
      "execution_count": 0,
      "outputs": []
    },
    {
      "cell_type": "code",
      "metadata": {
        "id": "UsdozniOhxKm",
        "colab_type": "code",
        "colab": {}
      },
      "source": [
        "!rm train.py"
      ],
      "execution_count": 0,
      "outputs": []
    },
    {
      "cell_type": "code",
      "metadata": {
        "id": "gF_DpCxpk0qK",
        "colab_type": "code",
        "colab": {}
      },
      "source": [
        "!rm test.py"
      ],
      "execution_count": 0,
      "outputs": []
    },
    {
      "cell_type": "code",
      "metadata": {
        "id": "4wyrfgD6j2ga",
        "colab_type": "code",
        "colab": {}
      },
      "source": [
        "cd utils/"
      ],
      "execution_count": 0,
      "outputs": []
    },
    {
      "cell_type": "code",
      "metadata": {
        "id": "XfpCX2Sbj4pV",
        "colab_type": "code",
        "colab": {}
      },
      "source": [
        "!rm datasets.py"
      ],
      "execution_count": 0,
      "outputs": []
    },
    {
      "cell_type": "code",
      "metadata": {
        "id": "LdAnDWFwnGhA",
        "colab_type": "code",
        "colab": {}
      },
      "source": [
        "cd .."
      ],
      "execution_count": 0,
      "outputs": []
    },
    {
      "cell_type": "markdown",
      "metadata": {
        "id": "Q-WyosOKiDVN",
        "colab_type": "text"
      },
      "source": [
        "Add the files **train.py** and **test.py** to the PyTorch-YOLOv3 directory.\n",
        "\n",
        "https://drive.google.com/file/d/14zwFFqUgebubgy4X1bJV0rxESiuCPurt/view?usp=sharing\n",
        "\n",
        "https://drive.google.com/file/d/1ugxlna1o8GEF1sb8xR3g3ybf-RFAaJ4x/view?usp=sharing\n",
        "\n",
        "Add the file **datasets.py** to the PyTorch-YOLOv3/utils directory.\n",
        "\n",
        "https://drive.google.com/file/d/1Cn1Zcgmnt4MKjSAqJ48dbOAngb1vIrMb/view?usp=sharing\n",
        "\n",
        "**Before you run the training, make sure to check that the GPU is selected. Go to Edit -> Notebook Settings and under Hardware Accelerator, select GPU.**\n",
        "\n",
        "If you've already executed some of the training before, you can use a previous checkpoint file as input (--pretrained_weights \\<filepath>) and pick up the training from there, rather than start over. The weight checkpoint files are written to the checkpoint folder during execution.\n",
        "\n",
        "For more information about train.py, see the github repository.\n",
        "\n",
        "**Start the training**"
      ]
    },
    {
      "cell_type": "code",
      "metadata": {
        "id": "N5zOlAJZe_VB",
        "colab_type": "code",
        "colab": {}
      },
      "source": [
        "!python train.py \\\n",
        "--model_def config/yolov3-custom.cfg \\\n",
        "--data_config config/custom.data \\\n",
        "--epoch 100 \\\n",
        "--checkpoint_interval 5"
      ],
      "execution_count": 0,
      "outputs": []
    },
    {
      "cell_type": "markdown",
      "metadata": {
        "id": "qrDatDu0Mpk7",
        "colab_type": "text"
      },
      "source": [
        "**Once you have a set of weights that you would like to use to detect legos, you can run it on any images in the image_folder, currently set to data/samples, and the output images with identified legos with boxes around them will be written to the output folder.**\n",
        "\n",
        "Note that the current images in data/sample are provided by the owner of the repository, and do not have any legos in them. You'll have to replace them with other images that you haven't used in the training/validation.\n",
        "\n",
        "The weights path can either be a weights file or one of the latest checkpoint files obtained from running the training above."
      ]
    },
    {
      "cell_type": "code",
      "metadata": {
        "id": "LHb3e5cd9yM7",
        "colab_type": "code",
        "colab": {}
      },
      "source": [
        "!python detect.py \\\n",
        "--image_folder data/samples/ \\\n",
        "--class_path data/custom/classes.names \\\n",
        "--model_def config/yolov3-custom.cfg \\\n",
        "--weights_path checkpoints/yolov3_ckpt_95.pth"
      ],
      "execution_count": 0,
      "outputs": []
    },
    {
      "cell_type": "markdown",
      "metadata": {
        "id": "t48SGV5W44z5",
        "colab_type": "text"
      },
      "source": [
        "Here are the weights found by team 1 for reference:\n",
        "\n",
        "https://drive.google.com/file/d/10CF8gRKXVGIlZXO1pY3kiOyPIQ2iQoNZ/view?usp=sharing"
      ]
    }
  ]
}